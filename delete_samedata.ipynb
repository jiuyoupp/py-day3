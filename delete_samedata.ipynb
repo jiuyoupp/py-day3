{
 "nbformat": 4,
 "nbformat_minor": 2,
 "metadata": {
  "language_info": {
   "name": "python",
   "codemirror_mode": {
    "name": "ipython",
    "version": 3
   },
   "version": "3.7.7-final"
  },
  "orig_nbformat": 2,
  "file_extension": ".py",
  "mimetype": "text/x-python",
  "name": "python",
  "npconvert_exporter": "python",
  "pygments_lexer": "ipython3",
  "version": 3,
  "kernelspec": {
   "name": "python3",
   "display_name": "Python 3"
  }
 },
 "cells": [
  {
   "cell_type": "code",
   "execution_count": 1,
   "metadata": {},
   "outputs": [
    {
     "output_type": "stream",
     "name": "stdout",
     "text": "['00', '11', '55', '99', 'gg']\n"
    }
   ],
   "source": [
    "#排序正序\n",
    "def delete_samedata1():\n",
    "    data = input(\"输入一个列表 :data1,data2 ...\")\n",
    "    datalist = data.split(',')\n",
    "    datalist.sort()\n",
    "    datalistdul =[]\n",
    "    i=0\n",
    "    #正向执行时由于删除了元素列表【i】可能越界\n",
    "    for i in range(len(datalist)-2):\n",
    "        if datalist[i] != datalist[i+1]:\n",
    "            datalistdul.append(datalist[i])\n",
    "        else:\n",
    "            i =i + 1\n",
    "    if datalist[-1] != datalist[-2]:\n",
    "        datalistdul.append(datalist[-1])\n",
    "    print(datalistdul)\n",
    "delete_samedata1()\n",
    "\n",
    ""
   ]
  },
  {
   "cell_type": "code",
   "execution_count": 2,
   "metadata": {},
   "outputs": [
    {
     "output_type": "stream",
     "name": "stdout",
     "text": "{'qq', 'rr', 'kk', 'zz', 'zzz', '99'}\n"
    }
   ],
   "source": [
    "#不排序\n",
    "def delete_samedata2():\n",
    "    data = input(\"输入一个列表 :data1,data2 ...\")\n",
    "    datalist = set(data.split(','))\n",
    "    print(datalist)\n",
    "delete_samedata2()"
   ]
  },
  {
   "cell_type": "code",
   "execution_count": 4,
   "metadata": {},
   "outputs": [
    {
     "output_type": "stream",
     "name": "stdout",
     "text": "['11', '22', '44', 'd', 'dd', 'ff', 'fff', 'kk']\n"
    }
   ],
   "source": [
    "#排序 逆序\n",
    "def delete_samedata():\n",
    "    data = input(\"输入一个列表 :data1,data2 ...\")\n",
    "    datalist = data.split(',')\n",
    "    datalist.sort()\n",
    "    i=0\n",
    "    temp = datalist[-1]\n",
    "    #倒着执行 正向执行时由于删除了元素列表【i】可能越界 逆向执行删除元素的同时i也在减小不会产生越界\n",
    "    for i in range(len(datalist)-2, -1, -1):\n",
    "        if datalist[i] == temp:\n",
    "            datalist.remove(datalist[i])\n",
    "        else:\n",
    "            temp = datalist[i]\n",
    "    print(datalist)\n",
    "delete_samedata()"
   ]
  },
  {
   "cell_type": "code",
   "execution_count": null,
   "metadata": {},
   "outputs": [],
   "source": []
  }
 ]
}