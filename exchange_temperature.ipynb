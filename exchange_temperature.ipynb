{
 "nbformat": 4,
 "nbformat_minor": 2,
 "metadata": {
  "language_info": {
   "name": "python",
   "codemirror_mode": {
    "name": "ipython",
    "version": 3
   },
   "version": "3.7.7-final"
  },
  "orig_nbformat": 2,
  "file_extension": ".py",
  "mimetype": "text/x-python",
  "name": "python",
  "npconvert_exporter": "python",
  "pygments_lexer": "ipython3",
  "version": 3,
  "kernelspec": {
   "name": "python3",
   "display_name": "Python 3"
  }
 },
 "cells": [
  {
   "cell_type": "code",
   "execution_count": 18,
   "metadata": {},
   "outputs": [
    {
     "output_type": "stream",
     "name": "stdout",
     "text": "转换后的华氏温度度为 -7.600000F\n"
    }
   ],
   "source": [
    "#  C = 5×(F- 32)/9，F = 9×C /5+32。\n",
    "def extem():\n",
    "    temperature = input(\"请输入摄氏度/华氏温度 C/F\") \n",
    "    if temperature[-1].lower() in 'f': #字符串也能进行切片及使用方法.lower（）\n",
    "        temp = float(temperature[0:-1])\n",
    "        C = 5 * (temp - 32) / 9\n",
    "        print(\"转换后的摄氏度为 %fC\" % C)\n",
    "    elif temperature[-1].lower() in 'c':\n",
    "        temp = float(temperature[0:-1])\n",
    "        F = 9 * temp / 5 +32\n",
    "        print(\"转换后的华氏温度度为 %fF\" % F)      \n",
    "    else:\n",
    "        print(\"输入有误\")\n",
    "extem()\n",
    ""
   ]
  },
  {
   "cell_type": "code",
   "execution_count": null,
   "metadata": {},
   "outputs": [],
   "source": []
  }
 ]
}