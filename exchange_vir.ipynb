{
 "nbformat": 4,
 "nbformat_minor": 2,
 "metadata": {
  "language_info": {
   "name": "python",
   "codemirror_mode": {
    "name": "ipython",
    "version": 3
   },
   "version": "3.7.7-final"
  },
  "orig_nbformat": 2,
  "file_extension": ".py",
  "mimetype": "text/x-python",
  "name": "python",
  "npconvert_exporter": "python",
  "pygments_lexer": "ipython3",
  "version": 3,
  "kernelspec": {
   "name": "python3",
   "display_name": "Python 3"
  }
 },
 "cells": [
  {
   "cell_type": "code",
   "execution_count": 1,
   "metadata": {},
   "outputs": [
    {
     "output_type": "stream",
     "name": "stdout",
     "text": "交换之前的值为： 9 o\n交换之后的值为： o 9\n"
    }
   ],
   "source": [
    "def ex_virable2():\n",
    "    virable1 = input(\"输入变量1\")\n",
    "    virable2 = input(\"输入变量2\")\n",
    "    print(\"交换之前的值为：\", virable1, virable2)\n",
    "    temp = virable1\n",
    "    virable1 = virable2\n",
    "    virable2 = temp\n",
    "    print(\"交换之后的值为：\", virable1, virable2)\n",
    "ex_virable2()"
   ]
  },
  {
   "cell_type": "code",
   "execution_count": 2,
   "metadata": {},
   "outputs": [
    {
     "output_type": "stream",
     "name": "stdout",
     "text": "交换之前的值为： k 9\n交换之后的值为： 9 k\n"
    }
   ],
   "source": [
    "def ex_virable1():\n",
    "    virable1 = input(\"输入变量1\")\n",
    "    virable2 = input(\"输入变量2\")\n",
    "    print(\"交换之前的值为：\", virable1, virable2)\n",
    "    virable1, virable2 = virable2, virable1\n",
    "    print(\"交换之后的值为：\", virable1, virable2)\n",
    "ex_virable1()"
   ]
  },
  {
   "cell_type": "code",
   "execution_count": null,
   "metadata": {},
   "outputs": [],
   "source": []
  }
 ]
}