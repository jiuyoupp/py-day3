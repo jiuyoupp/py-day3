{
 "nbformat": 4,
 "nbformat_minor": 2,
 "metadata": {
  "language_info": {
   "name": "python",
   "codemirror_mode": {
    "name": "ipython",
    "version": 3
   },
   "version": "3.7.6-final"
  },
  "orig_nbformat": 2,
  "file_extension": ".py",
  "mimetype": "text/x-python",
  "name": "python",
  "npconvert_exporter": "python",
  "pygments_lexer": "ipython3",
  "version": 3,
  "kernelspec": {
   "name": "python3",
   "display_name": "Python 3"
  }
 },
 "cells": [
  {
   "cell_type": "code",
   "execution_count": 1,
   "metadata": {},
   "outputs": [
    {
     "output_type": "stream",
     "name": "stdout",
     "text": "输入两个变量为 3 k\n交换后的值为 k 3\n"
    }
   ],
   "source": [
    "def exchange_virable1(virable1, virable2):\n",
    "    virable1, virable2 = virable2, virable1\n",
    "    return virable1, virable2\n",
    "\n",
    "\n",
    "vir1 = input('输入变量1')\n",
    "vir2 = input('输入变量2')\n",
    "print('输入两个变量为', vir1, vir2)\n",
    "vir1, vir2 = exchange_virable1(vir1, vir2)\n",
    "print('交换后的值为', vir1, vir2)"
   ]
  },
  {
   "cell_type": "code",
   "execution_count": 2,
   "metadata": {},
   "outputs": [
    {
     "output_type": "stream",
     "name": "stdout",
     "text": "转换后的摄氏温度为 -22.000000C\n转换后的华氏温度度为 -7.600000F\n"
    }
   ],
   "source": [
    "def exchange_temperature(temperature):\n",
    "    if temperature[-1].lower() in 'f':  # 字符串也能进行切片及使用方法.lower（）\n",
    "        temp = float(temperature[0:-1]) #字符串转换为浮点型\n",
    "        Centigrade = 5 * (temp-32) / 9\n",
    "        print(\"转换后的摄氏温度为 %fC\" % Centigrade)\n",
    "    elif temperature[-1].lower() in 'c':\n",
    "        temp = float(temperature[0:-1])\n",
    "        Fahrenheit = 9*temp/5 + 32\n",
    "        print(\"转换后的华氏温度度为 %fF\" % Fahrenheit)\n",
    "    else:\n",
    "        print(\"输入有误\")\n",
    "\n",
    "\n",
    "exchange_temperature('-7.6f')\n",
    "exchange_temperature('-22C')"
   ]
  },
  {
   "cell_type": "code",
   "execution_count": 7,
   "metadata": {},
   "outputs": [
    {
     "output_type": "stream",
     "name": "stdout",
     "text": "19\n"
    }
   ],
   "source": [
    "def sum_innumber(in_numbers):\n",
    "    innumbers = list(str(in_numbers))  # 先转换成字符串再转换成列表否则判断不了符号和小数点\n",
    "    for innumber in innumbers:\n",
    "        if innumber in '.':\n",
    "            innumbers.remove('.')\n",
    "        if innumber in '+':\n",
    "            innumbers.remove('+')\n",
    "        if innumber in '-':\n",
    "            innumbers.remove('-')\n",
    "    # num（列表）求和只能在数字列表中使用\n",
    "    sum = 0\n",
    "    for innumber in innumbers:\n",
    "        sum = sum + int(innumber)\n",
    "    return sum\n",
    "\n",
    "\n",
    "assert(sum_innumber(188) == 17)\n",
    "assert(sum_innumber(-281) == 11)\n",
    "assert(sum_innumber(239.1) == 15)\n",
    "test_num = input(\"请输入一个数\")\n",
    "print(sum_innumber(test_num))"
   ]
  },
  {
   "cell_type": "code",
   "execution_count": 11,
   "metadata": {},
   "outputs": [
    {
     "output_type": "stream",
     "name": "stdout",
     "text": "False\n"
    }
   ],
   "source": [
    "# 后续学习类过后可使用type先判断输入数据是否为整数\n",
    "def judge_prime(judgenum):\n",
    "    import math\n",
    "    if judgenum <= 1:\n",
    "        return False\n",
    "    elif judgenum == 2:\n",
    "        return True\n",
    "    else:\n",
    "        # range范围到不了最后一个 不加1判断不了根号n 8开根号int为2直接执行else\n",
    "        max_factor = int(math.sqrt(judgenum)+1)\n",
    "        for i in range(2, max_factor):  # 不用判断到 n判断到根号n+1就行\n",
    "            if judgenum % i == 0:\n",
    "                return False\n",
    "                break\n",
    "        else:\n",
    "            return True\n",
    "\n",
    "\n",
    "assert(judge_prime(13) ==True)\n",
    "assert(judge_prime(2) == True)\n",
    "assert(judge_prime(8) == False)\n",
    "judgenum = int(input(\"请输入一个自然数\"))\n",
    "print(judge_prime(judgenum))"
   ]
  },
  {
   "cell_type": "code",
   "execution_count": 8,
   "metadata": {},
   "outputs": [
    {
     "output_type": "stream",
     "name": "stdout",
     "text": "25\n"
    }
   ],
   "source": [
    "def random_number(min, max):\n",
    "    import random\n",
    "    if min > max:\n",
    "        print(\"输入错误\")\n",
    "    else:\n",
    "        return(random.randint(min, max))\n",
    "\n",
    "\n",
    "in_min = int(input('请输入生成随机数下限'))\n",
    "in_max = int(input('请输入生成随机数上限'))\n",
    "print(random_number(in_min, in_max))"
   ]
  },
  {
   "cell_type": "code",
   "execution_count": 10,
   "metadata": {},
   "outputs": [
    {
     "output_type": "stream",
     "name": "stdout",
     "text": "['11', '22', '33', '44', '99', 'kkk', 'yy']\n"
    }
   ],
   "source": [
    "#排序正序\n",
    "def delete_samedata1(data):\n",
    "    datalist = data.split(',')\n",
    "    datalist.sort()\n",
    "    datalistdul = []\n",
    "    #正向执行时若使用remove 由于删除了元素列表【i】可能越界\n",
    "    max_factor = len(datalist) - 1\n",
    "    for i in range(max_factor):\n",
    "        if datalist[i] != datalist[i+1]:\n",
    "            datalistdul.append(datalist[i])\n",
    "    if datalist[-1] != datalistdul[-1]:#末尾数据和不重复列表数据进行比较比较\n",
    "        datalistdul.append(datalist[-1])\n",
    "    print(datalistdul)\n",
    "\n",
    "\n",
    "delete_samedata1('11,22,33,44,44,44,kkk,kkk,kkk,99,yy,yy')"
   ]
  },
  {
   "cell_type": "code",
   "execution_count": null,
   "metadata": {},
   "outputs": [],
   "source": []
  }
 ]
}