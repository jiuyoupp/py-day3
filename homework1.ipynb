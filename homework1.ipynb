{
 "nbformat": 4,
 "nbformat_minor": 2,
 "metadata": {
  "language_info": {
   "name": "python",
   "codemirror_mode": {
    "name": "ipython",
    "version": 3
   },
   "version": "3.7.6-final"
  },
  "orig_nbformat": 2,
  "file_extension": ".py",
  "mimetype": "text/x-python",
  "name": "python",
  "npconvert_exporter": "python",
  "pygments_lexer": "ipython3",
  "version": 3,
  "kernelspec": {
   "name": "python3",
   "display_name": "Python 3"
  }
 },
 "cells": [
  {
   "cell_type": "code",
   "execution_count": 12,
   "metadata": {},
   "outputs": [
    {
     "output_type": "stream",
     "name": "stdout",
     "text": "输入两个变量为 5 o\n交换后的值为 o 5\n"
    }
   ],
   "source": [
    "def swap(x, y):\n",
    "    x, y = y, x\n",
    "    return x, y\n",
    "\n",
    "\n",
    "vir1 = input('输入变量1')\n",
    "vir2 = input('输入变量2')\n",
    "print('输入两个变量为', vir1, vir2)\n",
    "vir1, vir2 = swap(vir1, vir2)\n",
    "print('交换后的值为', vir1, vir2)"
   ]
  },
  {
   "cell_type": "code",
   "execution_count": 20,
   "metadata": {},
   "outputs": [
    {
     "output_type": "stream",
     "name": "stdout",
     "text": "输入错误，输入的不是整数或者小数\n"
    }
   ],
   "source": [
    "def cel_to_fah(cel):\n",
    "    return cel * 1.8 + 32\n",
    "\n",
    "    \n",
    "try:\n",
    "    cel = float(input('请输入摄氏温度'))\n",
    "except ValueError:\n",
    "    print('输入错误，输入的不是整数或者小数')\n",
    "else:\n",
    "    fah = cel_to_fah(cel)\n",
    "    print(\"输出华氏度为%.4fF\" % fah)\n"
   ]
  },
  {
   "cell_type": "code",
   "execution_count": 19,
   "metadata": {},
   "outputs": [
    {
     "output_type": "stream",
     "name": "stdout",
     "text": "18\n"
    }
   ],
   "source": [
    "def sum_digits(digits):\n",
    "    for digit in digits:\n",
    "        if digit in '.':\n",
    "            digits.remove('.')\n",
    "        if digit in '+':\n",
    "            digits.remove('+')\n",
    "        if digit in '-':\n",
    "            digits.remove('-')\n",
    "    # num（列表）求和只能在数字列表中使用\n",
    "    sum = 0\n",
    "    for digit in digits:\n",
    "        sum = sum + int(digit)\n",
    "    return sum\n",
    "\n",
    "\n",
    "assert(sum_digits(list('188')) == 17)\n",
    "assert(sum_digits(list('-281')) == 11)\n",
    "assert(sum_digits(list('239.1')) == 15)\n",
    "\n",
    "\n",
    "try:\n",
    "    num = input(\"请输入一个数\")\n",
    "    # 先转换成字符串再转换成列表否则判断不了符号和小数点\n",
    "    digits = list(str(num))\n",
    "    sum = sum_digits(digits)\n",
    "except ValueError:\n",
    "    print('输入错误，输入的不是整数或者小数')\n",
    "else:\n",
    "    print(sum)"
   ]
  },
  {
   "cell_type": "code",
   "execution_count": 40,
   "metadata": {},
   "outputs": [
    {
     "output_type": "stream",
     "name": "stdout",
     "text": "输入错误，输入的不是自然数\n"
    }
   ],
   "source": [
    "def is_prime(num):\n",
    "    judgenum = int(num)\n",
    "    import math\n",
    "    if judgenum <= 1:\n",
    "        return False\n",
    "    elif judgenum == 2:\n",
    "        return True\n",
    "    else:\n",
    "        # range范围到不了最后一个 不加1判断不了根号n 8开根号int为2直接执行else\n",
    "        max_factor = int(math.sqrt(judgenum)+1)\n",
    "        for i in range(2, max_factor): \n",
    "            if judgenum % i == 0:\n",
    "                return False\n",
    "                break\n",
    "        else:\n",
    "            return True\n",
    "\n",
    "\n",
    "assert(is_prime(13) ==True)\n",
    "assert(is_prime(2) == True)\n",
    "assert(is_prime(8) == False)\n",
    "\n",
    "\n",
    "try:\n",
    "    judgenum = int(input(\"请输入一个自然数\"))\n",
    "    judge = is_prime(judgenum)\n",
    "except ValueError:\n",
    "    print('输入错误，输入的不是自然数')\n",
    "else:\n",
    "    print(judge)\n"
   ]
  },
  {
   "cell_type": "code",
   "execution_count": 33,
   "metadata": {},
   "outputs": [
    {
     "output_type": "stream",
     "name": "stdout",
     "text": "79\n"
    }
   ],
   "source": [
    "def random_number(min, max):\n",
    "    import random\n",
    "    return(random.randint(min, max))\n",
    "\n",
    "\n",
    "try:\n",
    "    min = int(input('请输入生成随机数下限'))\n",
    "    max = int(input('请输入生成随机数上限'))\n",
    "    if min > max:\n",
    "       raise Exception('输入min必须小于max')\n",
    "    num = random_number(min, max)\n",
    "except ValueError:\n",
    "    print('输入错误，输入的不是自然数')\n",
    "else:\n",
    "    print(num)\n",
    ""
   ]
  },
  {
   "cell_type": "code",
   "execution_count": 43,
   "metadata": {},
   "outputs": [
    {
     "output_type": "stream",
     "name": "stdout",
     "text": "['11', '22', '77', '99', 'kk', 'll', 'retetertr']\n"
    }
   ],
   "source": [
    "#排序正序\n",
    "def del_dup(data): \n",
    "    elems = data.split(',')\n",
    "    elems.sort()\n",
    "    elemsdul = []\n",
    "    #正向执行时若使用remove 由于删除了元素列表【i】可能越界\n",
    "    max_factor = len(elems) - 1\n",
    "    for i in range(max_factor):\n",
    "        if elems[i] != elems[i+1]:\n",
    "            elemsdul.append(elems[i])\n",
    "    #末尾数据和不重复列表数据进行比较比较\n",
    "    if elems[-1] != elemsdul[-1]:\n",
    "        elemsdul.append(elems[-1])\n",
    "    return elemsdul\n",
    "\n",
    "\n",
    "try:\n",
    "    elemlist = input('请输入一组元素用，隔开')\n",
    "    elem = del_dup(elemlist)\n",
    "except ValueError:\n",
    "    print('输入错误')\n",
    "else:\n",
    "    print(elem)"
   ]
  },
  {
   "cell_type": "code",
   "execution_count": 8,
   "metadata": {},
   "outputs": [
    {
     "output_type": "stream",
     "name": "stdout",
     "text": "name,age,gender\nkk\nChris,24,male\nkk\nAnna,20,female\nkk\nBob,30,male\nkk\nDavid,20,male\nkk\n\nkk\n"
    }
   ],
   "source": [
    "with open('D:/pythoncode/test/peopledata.txt', 'r') as f:\n",
    "    for line in f.readlines():\n",
    "        print(line.strip())\n",
    "        print('kk')"
   ]
  },
  {
   "cell_type": "code",
   "execution_count": null,
   "metadata": {},
   "outputs": [],
   "source": []
  }
 ]
}