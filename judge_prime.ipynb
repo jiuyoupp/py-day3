{
 "nbformat": 4,
 "nbformat_minor": 2,
 "metadata": {
  "language_info": {
   "name": "python",
   "codemirror_mode": {
    "name": "ipython",
    "version": 3
   },
   "version": "3.7.7-final"
  },
  "orig_nbformat": 2,
  "file_extension": ".py",
  "mimetype": "text/x-python",
  "name": "python",
  "npconvert_exporter": "python",
  "pygments_lexer": "ipython3",
  "version": 3,
  "kernelspec": {
   "name": "python3",
   "display_name": "Python 3"
  }
 },
 "cells": [
  {
   "cell_type": "code",
   "execution_count": 8,
   "metadata": {},
   "outputs": [
    {
     "output_type": "stream",
     "name": "stdout",
     "text": "是素数\n"
    }
   ],
   "source": [
    "def judge_prime():\n",
    "    import math\n",
    "    flag = False\n",
    "    judgenum = int(input(\"输入一个整数\"))\n",
    "    if judgenum <= 1:\n",
    "        flag == False\n",
    "    elif judgenum == 2:\n",
    "        flag == True\n",
    "    else:\n",
    "        for i in range(2,int(math.sqrt(judgenum)+1)):#不用判断到 n判断到根号n+1就行\n",
    "            if judgenum % i == 0:\n",
    "                flag = False\n",
    "                break\n",
    "            else:\n",
    "                flag = True\n",
    "    if flag == False:\n",
    "        print(\"不是素数\")\n",
    "    elif flag == True:\n",
    "        print(\"是素数\")\n",
    "judge_prime()\n",
    ""
   ]
  },
  {
   "cell_type": "code",
   "execution_count": null,
   "metadata": {},
   "outputs": [],
   "source": []
  }
 ]
}