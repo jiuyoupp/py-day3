{
 "nbformat": 4,
 "nbformat_minor": 2,
 "metadata": {
  "language_info": {
   "name": "python",
   "codemirror_mode": {
    "name": "ipython",
    "version": 3
   },
   "version": "3.7.7-final"
  },
  "orig_nbformat": 2,
  "file_extension": ".py",
  "mimetype": "text/x-python",
  "name": "python",
  "npconvert_exporter": "python",
  "pygments_lexer": "ipython3",
  "version": 3,
  "kernelspec": {
   "name": "python3",
   "display_name": "Python 3"
  }
 },
 "cells": [
  {
   "cell_type": "code",
   "execution_count": 4,
   "metadata": {},
   "outputs": [
    {
     "output_type": "stream",
     "name": "stdout",
     "text": "数字之和为 24\n"
    }
   ],
   "source": [
    "def sum_innumber():\n",
    "    innumbers = list(input(\"输入一个数字\"))\n",
    "    for innumber in innumbers:\n",
    "        if innumber in '.':\n",
    "            innumbers.remove('.')\n",
    "        if innumber in '+':\n",
    "            innumbers.remove('+')\n",
    "        if innumber in '-':\n",
    "            innumbers.remove('-')\n",
    "    # num（列表）求和只能在数字列表中使用\n",
    "    sum = 0\n",
    "    for innumber in innumbers:\n",
    "        sum = sum + int(innumber)\n",
    "    print(\"数字之和为 %d\" % sum)\n",
    "sum_innumber()"
   ]
  },
  {
   "cell_type": "code",
   "execution_count": null,
   "metadata": {},
   "outputs": [],
   "source": []
  }
 ]
}