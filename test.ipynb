a = [[1, 2, 3], [4, 5, 6]]
import numpy as np
a = np.array(a)
from matplotlib import pyplot as plt
plt.plot(a)
plt.show()
